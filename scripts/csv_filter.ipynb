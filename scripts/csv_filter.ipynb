{
 "cells": [
  {
   "cell_type": "code",
   "execution_count": 1,
   "metadata": {},
   "outputs": [
    {
     "name": "stdout",
     "output_type": "stream",
     "text": [
      "Le fichier filtré a été sauvegardé sous : C:\\\\Users\\\\marti\\\\Desktop\\\\dom\\\\Data\\\\metadata_f1.csv\n"
     ]
    }
   ],
   "source": [
    "import pandas as pd\n",
    "\n",
    "def filter_columns():\n",
    "    # Chemin des fichiers\n",
    "    input_file = r\"C:\\\\Users\\\\marti\\\\Desktop\\\\dom\\\\Data\\\\metadata.csv\"\n",
    "    output_file = r\"C:\\\\Users\\\\marti\\\\Desktop\\\\dom\\\\Data\\\\metadata_f1.csv\"\n",
    "\n",
    "    # Colonnes essentielles que vous souhaitez conserver\n",
    "    essential_columns = [\n",
    "        \"isic_id\",\n",
    "        \"diagnosis\",\n",
    "        \"age_approx\"\n",
    "    ]\n",
    "\n",
    "    # Charger le fichier CSV\n",
    "    df = pd.read_csv(input_file)\n",
    "\n",
    "    # Vérifier que les colonnes essentielles existent dans le fichier\n",
    "    available_columns = [col for col in essential_columns if col in df.columns]\n",
    "\n",
    "    # Garder uniquement les colonnes essentielles\n",
    "    filtered_df = df[available_columns]\n",
    "\n",
    "    # Sauvegarder le fichier filtré\n",
    "    filtered_df.to_csv(output_file, index=False)\n",
    "    print(f\"Le fichier filtré a été sauvegardé sous : {output_file}\")\n",
    "\n",
    "# Appel de la fonction\n",
    "filter_columns()\n"
   ]
  }
 ],
 "metadata": {
  "kernelspec": {
   "display_name": "mat",
   "language": "python",
   "name": "python3"
  },
  "language_info": {
   "codemirror_mode": {
    "name": "ipython",
    "version": 3
   },
   "file_extension": ".py",
   "mimetype": "text/x-python",
   "name": "python",
   "nbconvert_exporter": "python",
   "pygments_lexer": "ipython3",
   "version": "3.8.20"
  }
 },
 "nbformat": 4,
 "nbformat_minor": 2
}
